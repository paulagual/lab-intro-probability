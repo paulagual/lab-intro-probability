{
 "cells": [
  {
   "cell_type": "markdown",
   "metadata": {},
   "source": [
    "# Challenge 1\n",
    "\n",
    "A and B are events of a certain probability space $(\\omega, \\sigma, P)$ such that $P(A) = 0.3$, $P(B) = 0.6$ and $P(A \\cap B) = 0.1$.\n",
    "\n",
    "Which are false?\n",
    "* $P(A \\cup B) = 0.6$ --> **FALSE (is 0.8)**\n",
    "* $P(A \\cap B^{C}) = 0.2$ --> **TRUE**\n",
    "* $P(A \\cap (B \\cup B^{C})) = 0.4$ --> **FALSE (is 0.3)**\n",
    "* $P(A^{C} \\cap B^{C}) = 0.3$ --> **FALSE (is 0.2)**\n",
    "* $P((A \\cap B)^{C}) = 0.9$ --> **TRUE**"
   ]
  },
  {
   "cell_type": "markdown",
   "metadata": {},
   "source": [
    "# Challenge 2\n",
    "We have an urn with 10 white balls, 12 red balls and 8 black balls. Calculate the probability of:\n",
    "* Taking a white ball. **--> 1/3**\n",
    "* Taking a white ball after taking a black ball. **--> 10/29**\n",
    "* Taking a red ball after taking a black and a red ball. **--> 11/28**\n",
    "* Taking a red ball after taking a black and a red ball with reposition \n",
    "(that means after taking a ball I put it back to the urn).  <br> **--> 2/5**\n"
   ]
  },
  {
   "cell_type": "markdown",
   "metadata": {},
   "source": [
    "# Challenge 3\n",
    "\n",
    "You are planning a picnic today, but the morning is cloudy. So you look for some data:\n",
    "* 50% of all rainy days start off cloudy!\n",
    "* But cloudy mornings are common (about 40% of days start cloudy)\n",
    "* And this is usually a dry month (only 3 of 30 days (10%) tend to be rainy)\n",
    "\n",
    "What is the chance of rain during the day?\n",
    "\n",
    "**The chance of Rain in 12,5%**<br>\n",
    "$P(Rainy|Cloudy) = (Rainy \\cap Cloudy) / P(Cloudy) = 0,05/0,4 = 0,125$"
   ]
  },
  {
   "cell_type": "markdown",
   "metadata": {},
   "source": [
    "# Challenge 4\n",
    "\n",
    "By conducting a telephone survey, we asked 1000 people if they thought it is necessary to have more street lighting at night.\n",
    "\n",
    "We have met 480 men, 324 of which answered yes and 156 no, as well as 520 women, 351 of which answered yes and 169 no. We wonder if men and women have a different opinion or if gender is irrelevant to the question.\n",
    "\n",
    "(To see more clearly what they told us, it is best to place the data in a table)\n",
    "\n",
    "\n",
    "Consider the following events:\n",
    "- Wants more light (answered yes)\n",
    "- A man answered\n",
    "\n",
    "\n",
    "We ask ourselves if these events are independent, that is, if the fact of wanting more light depends on whether one is male or female. Are these events independent or not?"
   ]
  },
  {
   "cell_type": "markdown",
   "metadata": {},
   "source": [
    "<table>\n",
    "    <tr align=\"centre\"><th>Genre</th><th>Yes</th><th>No</th></tr>\n",
    "    <tr><td>Total</td><td>(324+351)/1000= 0,675</td><td>(156+169)/1000 = 0,325</td></tr>\n",
    "    <tr><td>Men</td><td>324/480= 0,675</td><td>156/480 = 0,325</td></tr>\n",
    "    <tr><td>Women </td><td>351/520= 0,675</td><td>169/520 = 0,325</td></tr>\n",
    "</table>"
   ]
  },
  {
   "cell_type": "markdown",
   "metadata": {},
   "source": [
    "The fact of wanting more ligh do not depend of beeing women and men"
   ]
  }
 ],
 "metadata": {
  "kernelspec": {
   "display_name": "Python 3",
   "language": "python",
   "name": "python3"
  },
  "language_info": {
   "codemirror_mode": {
    "name": "ipython",
    "version": 3
   },
   "file_extension": ".py",
   "mimetype": "text/x-python",
   "name": "python",
   "nbconvert_exporter": "python",
   "pygments_lexer": "ipython3",
   "version": "3.7.3"
  },
  "varInspector": {
   "cols": {
    "lenName": 16,
    "lenType": 16,
    "lenVar": 40
   },
   "kernels_config": {
    "python": {
     "delete_cmd_postfix": "",
     "delete_cmd_prefix": "del ",
     "library": "var_list.py",
     "varRefreshCmd": "print(var_dic_list())"
    },
    "r": {
     "delete_cmd_postfix": ") ",
     "delete_cmd_prefix": "rm(",
     "library": "var_list.r",
     "varRefreshCmd": "cat(var_dic_list()) "
    }
   },
   "types_to_exclude": [
    "module",
    "function",
    "builtin_function_or_method",
    "instance",
    "_Feature"
   ],
   "window_display": false
  }
 },
 "nbformat": 4,
 "nbformat_minor": 2
}
